{
 "cells": [
  {
   "cell_type": "code",
   "execution_count": 25,
   "id": "09e0eb88-358c-4721-9168-78cbf767ec7c",
   "metadata": {},
   "outputs": [],
   "source": [
    "import pandas as pd"
   ]
  },
  {
   "cell_type": "code",
   "execution_count": 27,
   "id": "c270ea09-c771-4a3f-8e6c-7398d4d3640e",
   "metadata": {},
   "outputs": [],
   "source": [
    "amazon = pd.read_csv('amazon_prime_titles.csv')"
   ]
  },
  {
   "cell_type": "code",
   "execution_count": 29,
   "id": "2bcb1c09-3173-4e76-a42c-449e3f332fc9",
   "metadata": {},
   "outputs": [
    {
     "data": {
      "text/html": [
       "<div>\n",
       "<style scoped>\n",
       "    .dataframe tbody tr th:only-of-type {\n",
       "        vertical-align: middle;\n",
       "    }\n",
       "\n",
       "    .dataframe tbody tr th {\n",
       "        vertical-align: top;\n",
       "    }\n",
       "\n",
       "    .dataframe thead th {\n",
       "        text-align: right;\n",
       "    }\n",
       "</style>\n",
       "<table border=\"1\" class=\"dataframe\">\n",
       "  <thead>\n",
       "    <tr style=\"text-align: right;\">\n",
       "      <th></th>\n",
       "      <th>show_id</th>\n",
       "      <th>type</th>\n",
       "      <th>title</th>\n",
       "      <th>director</th>\n",
       "      <th>cast</th>\n",
       "      <th>country</th>\n",
       "      <th>date_added</th>\n",
       "      <th>release_year</th>\n",
       "      <th>rating</th>\n",
       "      <th>duration</th>\n",
       "      <th>listed_in</th>\n",
       "      <th>description</th>\n",
       "    </tr>\n",
       "  </thead>\n",
       "  <tbody>\n",
       "    <tr>\n",
       "      <th>0</th>\n",
       "      <td>s1</td>\n",
       "      <td>Movie</td>\n",
       "      <td>The Grand Seduction</td>\n",
       "      <td>Don McKellar</td>\n",
       "      <td>Brendan Gleeson, Taylor Kitsch, Gordon Pinsent</td>\n",
       "      <td>Canada</td>\n",
       "      <td>March 30, 2021</td>\n",
       "      <td>2014</td>\n",
       "      <td>NaN</td>\n",
       "      <td>113 min</td>\n",
       "      <td>Comedy, Drama</td>\n",
       "      <td>A small fishing village must procure a local d...</td>\n",
       "    </tr>\n",
       "    <tr>\n",
       "      <th>1</th>\n",
       "      <td>s2</td>\n",
       "      <td>Movie</td>\n",
       "      <td>Take Care Good Night</td>\n",
       "      <td>Girish Joshi</td>\n",
       "      <td>Mahesh Manjrekar, Abhay Mahajan, Sachin Khedekar</td>\n",
       "      <td>India</td>\n",
       "      <td>March 30, 2021</td>\n",
       "      <td>2018</td>\n",
       "      <td>13+</td>\n",
       "      <td>110 min</td>\n",
       "      <td>Drama, International</td>\n",
       "      <td>A Metro Family decides to fight a Cyber Crimin...</td>\n",
       "    </tr>\n",
       "    <tr>\n",
       "      <th>2</th>\n",
       "      <td>s3</td>\n",
       "      <td>Movie</td>\n",
       "      <td>Secrets of Deception</td>\n",
       "      <td>Josh Webber</td>\n",
       "      <td>Tom Sizemore, Lorenzo Lamas, Robert LaSardo, R...</td>\n",
       "      <td>United States</td>\n",
       "      <td>March 30, 2021</td>\n",
       "      <td>2017</td>\n",
       "      <td>NaN</td>\n",
       "      <td>74 min</td>\n",
       "      <td>Action, Drama, Suspense</td>\n",
       "      <td>After a man discovers his wife is cheating on ...</td>\n",
       "    </tr>\n",
       "    <tr>\n",
       "      <th>3</th>\n",
       "      <td>s4</td>\n",
       "      <td>Movie</td>\n",
       "      <td>Pink: Staying True</td>\n",
       "      <td>Sonia Anderson</td>\n",
       "      <td>Interviews with: Pink, Adele, Beyoncé, Britney...</td>\n",
       "      <td>United States</td>\n",
       "      <td>March 30, 2021</td>\n",
       "      <td>2014</td>\n",
       "      <td>NaN</td>\n",
       "      <td>69 min</td>\n",
       "      <td>Documentary</td>\n",
       "      <td>Pink breaks the mold once again, bringing her ...</td>\n",
       "    </tr>\n",
       "    <tr>\n",
       "      <th>4</th>\n",
       "      <td>s5</td>\n",
       "      <td>Movie</td>\n",
       "      <td>Monster Maker</td>\n",
       "      <td>Giles Foster</td>\n",
       "      <td>Harry Dean Stanton, Kieran O'Brien, George Cos...</td>\n",
       "      <td>United Kingdom</td>\n",
       "      <td>March 30, 2021</td>\n",
       "      <td>1989</td>\n",
       "      <td>NaN</td>\n",
       "      <td>45 min</td>\n",
       "      <td>Drama, Fantasy</td>\n",
       "      <td>Teenage Matt Banting wants to work with a famo...</td>\n",
       "    </tr>\n",
       "  </tbody>\n",
       "</table>\n",
       "</div>"
      ],
      "text/plain": [
       "  show_id   type                 title        director  \\\n",
       "0      s1  Movie   The Grand Seduction    Don McKellar   \n",
       "1      s2  Movie  Take Care Good Night    Girish Joshi   \n",
       "2      s3  Movie  Secrets of Deception     Josh Webber   \n",
       "3      s4  Movie    Pink: Staying True  Sonia Anderson   \n",
       "4      s5  Movie         Monster Maker    Giles Foster   \n",
       "\n",
       "                                                cast         country  \\\n",
       "0     Brendan Gleeson, Taylor Kitsch, Gordon Pinsent          Canada   \n",
       "1   Mahesh Manjrekar, Abhay Mahajan, Sachin Khedekar           India   \n",
       "2  Tom Sizemore, Lorenzo Lamas, Robert LaSardo, R...   United States   \n",
       "3  Interviews with: Pink, Adele, Beyoncé, Britney...   United States   \n",
       "4  Harry Dean Stanton, Kieran O'Brien, George Cos...  United Kingdom   \n",
       "\n",
       "       date_added  release_year rating duration                listed_in  \\\n",
       "0  March 30, 2021          2014    NaN  113 min            Comedy, Drama   \n",
       "1  March 30, 2021          2018    13+  110 min     Drama, International   \n",
       "2  March 30, 2021          2017    NaN   74 min  Action, Drama, Suspense   \n",
       "3  March 30, 2021          2014    NaN   69 min              Documentary   \n",
       "4  March 30, 2021          1989    NaN   45 min           Drama, Fantasy   \n",
       "\n",
       "                                         description  \n",
       "0  A small fishing village must procure a local d...  \n",
       "1  A Metro Family decides to fight a Cyber Crimin...  \n",
       "2  After a man discovers his wife is cheating on ...  \n",
       "3  Pink breaks the mold once again, bringing her ...  \n",
       "4  Teenage Matt Banting wants to work with a famo...  "
      ]
     },
     "execution_count": 29,
     "metadata": {},
     "output_type": "execute_result"
    }
   ],
   "source": [
    "amazon.head()"
   ]
  },
  {
   "cell_type": "code",
   "execution_count": 31,
   "id": "55557b99-c041-41d2-ba3b-84edf9941b40",
   "metadata": {},
   "outputs": [
    {
     "data": {
      "text/plain": [
       "show_id            0\n",
       "type               0\n",
       "title              0\n",
       "director        2083\n",
       "cast            1233\n",
       "country         8996\n",
       "date_added      9513\n",
       "release_year       0\n",
       "rating           337\n",
       "duration           0\n",
       "listed_in          0\n",
       "description        0\n",
       "dtype: int64"
      ]
     },
     "execution_count": 31,
     "metadata": {},
     "output_type": "execute_result"
    }
   ],
   "source": [
    "amazon.isnull().sum()"
   ]
  },
  {
   "cell_type": "markdown",
   "id": "9f106971-9163-4096-aabb-181866696512",
   "metadata": {},
   "source": [
    "MISSING VALUES TREATMENT"
   ]
  },
  {
   "cell_type": "code",
   "execution_count": 33,
   "id": "3aedad21-b111-45f5-af5a-856f1f2cfd7e",
   "metadata": {},
   "outputs": [],
   "source": [
    "amazon['director']=amazon['director'].fillna('Unknown')\n",
    "amazon['cast']=amazon['cast'].fillna('Unknown')"
   ]
  },
  {
   "cell_type": "code",
   "execution_count": 23,
   "id": "274d8982-8276-4632-81a4-6db9d41fe2b6",
   "metadata": {},
   "outputs": [
    {
     "data": {
      "text/plain": [
       "show_id            0\n",
       "type               0\n",
       "title              0\n",
       "director           0\n",
       "cast               0\n",
       "country         8996\n",
       "date_added      9513\n",
       "release_year       0\n",
       "rating           337\n",
       "duration           0\n",
       "listed_in          0\n",
       "description        0\n",
       "dtype: int64"
      ]
     },
     "execution_count": 23,
     "metadata": {},
     "output_type": "execute_result"
    }
   ],
   "source": [
    "amazon.isnull().sum()"
   ]
  },
  {
   "cell_type": "markdown",
   "id": "e34a08fe-5e44-4eb5-892f-adcd7f261d4e",
   "metadata": {},
   "source": [
    "EXPLODING CLOUMN AS MUTIPLE ENTRIES IN ONE COLUMN (COUNTRY,GENRE)"
   ]
  },
  {
   "cell_type": "code",
   "execution_count": 35,
   "id": "2371ca8d-90b0-40f5-9e06-6687f92024d5",
   "metadata": {},
   "outputs": [],
   "source": [
    "exploded = amazon.assign(country=amazon['country'].str.split(',')).explode('country')"
   ]
  },
  {
   "cell_type": "code",
   "execution_count": 41,
   "id": "0b942536-81aa-4dd0-b342-0500213a4811",
   "metadata": {},
   "outputs": [],
   "source": [
    "exploded = amazon.assign(listed_in=amazon['listed_in'].str.split(',')).explode('listed_in')"
   ]
  },
  {
   "cell_type": "code",
   "execution_count": 43,
   "id": "b57c67b2-2f2b-484d-aafa-0f9012f4f819",
   "metadata": {},
   "outputs": [
    {
     "data": {
      "text/plain": [
       "show_id             0\n",
       "type                0\n",
       "title               0\n",
       "director            0\n",
       "cast                0\n",
       "country         16931\n",
       "date_added      17989\n",
       "release_year        0\n",
       "rating            750\n",
       "duration            0\n",
       "listed_in           0\n",
       "description         0\n",
       "dtype: int64"
      ]
     },
     "execution_count": 43,
     "metadata": {},
     "output_type": "execute_result"
    }
   ],
   "source": [
    "exploded.isnull().sum()"
   ]
  },
  {
   "cell_type": "code",
   "execution_count": null,
   "id": "1006f32c-a700-43e1-b07e-f40278f46221",
   "metadata": {},
   "outputs": [],
   "source": [
    "MISSING VALUE TREAMENT FOR EXPLODED DATAFRAME"
   ]
  },
  {
   "cell_type": "code",
   "execution_count": 45,
   "id": "0271fa2b-220c-479e-8b21-cab660d6a82e",
   "metadata": {},
   "outputs": [],
   "source": [
    "country_filled = exploded.groupby('listed_in')['country'].apply(\n",
    "    lambda x: x.fillna(x.mode().iloc[0] if not x.mode().empty else 'Unknown')\n",
    ").reset_index(drop=True)\n",
    "\n",
    "exploded['country'] = country_filled"
   ]
  },
  {
   "cell_type": "code",
   "execution_count": 47,
   "id": "3ff6506f-444a-414a-979b-7673eaba915c",
   "metadata": {},
   "outputs": [
    {
     "data": {
      "text/plain": [
       "show_id             0\n",
       "type                0\n",
       "title               0\n",
       "director            0\n",
       "cast                0\n",
       "country             0\n",
       "date_added      17989\n",
       "release_year        0\n",
       "rating            750\n",
       "duration            0\n",
       "listed_in           0\n",
       "description         0\n",
       "dtype: int64"
      ]
     },
     "execution_count": 47,
     "metadata": {},
     "output_type": "execute_result"
    }
   ],
   "source": [
    "exploded.isnull().sum()"
   ]
  },
  {
   "cell_type": "code",
   "execution_count": 49,
   "id": "73629578-ed87-4f49-87cc-95793bc138c6",
   "metadata": {},
   "outputs": [],
   "source": [
    "exploded['date_added'] = exploded.groupby('listed_in')['date_added'].apply(\n",
    "    lambda x: x.fillna(x.mode().iloc[0] if not x.mode().empty else \"Unknown\")\n",
    ").reset_index(drop=True)"
   ]
  },
  {
   "cell_type": "code",
   "execution_count": 51,
   "id": "42d8cd95-5a23-4191-87ce-0af9f83e3dff",
   "metadata": {},
   "outputs": [],
   "source": [
    "exploded['rating'] = exploded.groupby('listed_in')['rating'].apply(\n",
    "    lambda x: x.fillna(x.mode().iloc[0] if not x.mode().empty else \"Unknown\")\n",
    ").reset_index(drop=True)"
   ]
  },
  {
   "cell_type": "code",
   "execution_count": 53,
   "id": "1c21a8cb-a4d6-41e7-bd06-f7e647fb187d",
   "metadata": {},
   "outputs": [
    {
     "data": {
      "text/plain": [
       "show_id         0\n",
       "type            0\n",
       "title           0\n",
       "director        0\n",
       "cast            0\n",
       "country         0\n",
       "date_added      0\n",
       "release_year    0\n",
       "rating          0\n",
       "duration        0\n",
       "listed_in       0\n",
       "description     0\n",
       "dtype: int64"
      ]
     },
     "execution_count": 53,
     "metadata": {},
     "output_type": "execute_result"
    }
   ],
   "source": [
    "exploded.isnull().sum()"
   ]
  },
  {
   "cell_type": "code",
   "execution_count": null,
   "id": "f3aa4774-90b2-487b-895b-90e713d6a26a",
   "metadata": {},
   "outputs": [],
   "source": [
    "MAKING UNIQUE COUNTRIES AND REMOVING COMMA AGAIN"
   ]
  },
  {
   "cell_type": "code",
   "execution_count": 57,
   "id": "5524977d-0d64-4877-9441-87681fc7a60d",
   "metadata": {},
   "outputs": [],
   "source": [
    "exploded['country'] = exploded['country'].str.split(', ')\n",
    "exploded = exploded.explode('country')"
   ]
  },
  {
   "cell_type": "code",
   "execution_count": 59,
   "id": "c8a7ccdc-ffa5-4124-89e7-61837c692db8",
   "metadata": {},
   "outputs": [
    {
     "data": {
      "text/plain": [
       "array(['United States', 'India', 'Brazil', 'Canada', 'France', 'Denmark',\n",
       "       'United Kingdom', 'Ireland', 'Belgium', 'Luxembourg', 'Japan',\n",
       "       'Singapore', 'South Korea', 'Mexico', 'Germany', 'Hong Kong',\n",
       "       'Unknown', 'China', 'Austria', 'Italy', 'Switzerland', 'Chile',\n",
       "       'Argentina', 'Spain', 'Australia', 'Sweden', 'Norway', 'Hungary',\n",
       "       'Poland', 'Netherlands', 'Egypt', 'Portugal', 'South Africa',\n",
       "       'New Zealand', 'Thailand', 'United Arab Emirates', 'Malaysia',\n",
       "       'Monaco', 'Colombia'], dtype=object)"
      ]
     },
     "execution_count": 59,
     "metadata": {},
     "output_type": "execute_result"
    }
   ],
   "source": [
    "exploded['country'].unique()"
   ]
  },
  {
   "cell_type": "code",
   "execution_count": 63,
   "id": "6cbb4a75-c29f-4573-8b81-061ef8e231aa",
   "metadata": {},
   "outputs": [
    {
     "data": {
      "text/plain": [
       "array(['Comedy', ' Drama', 'Drama', ' International', 'Action',\n",
       "       ' Suspense', 'Documentary', ' Fantasy', 'Fantasy', ' Kids',\n",
       "       ' Special Interest', ' Science Fiction', 'Adventure', 'Horror',\n",
       "       ' Sports', 'Kids', ' Talk Show and Variety', 'Science Fiction',\n",
       "       ' Anime', ' Comedy', 'Arts', ' Entertainment', ' and Culture',\n",
       "       'TV Shows', 'Animation', ' Adventure', ' Animation', 'Anime',\n",
       "       'Music Videos and Concerts', 'Fitness', 'Faith and Spirituality',\n",
       "       'Special Interest', ' Military and War', ' Western', 'Suspense',\n",
       "       ' LGBTQ', ' Romance', ' Unscripted', 'Unscripted', ' Documentary',\n",
       "       'Western', ' Faith and Spirituality', ' Young Adult Audience',\n",
       "       'Arthouse', 'Sports', 'Military and War', ' Horror',\n",
       "       'International', ' Music Videos and Concerts', ' Historical',\n",
       "       'Romance', ' Arts', 'Young Adult Audience',\n",
       "       'Talk Show and Variety', 'LGBTQ', ' Arthouse', 'Historical'],\n",
       "      dtype=object)"
      ]
     },
     "execution_count": 63,
     "metadata": {},
     "output_type": "execute_result"
    }
   ],
   "source": [
    "exploded['listed_in'].unique()"
   ]
  },
  {
   "cell_type": "code",
   "execution_count": null,
   "id": "9c8141b1-b6af-45a5-83da-eb9b263bb051",
   "metadata": {},
   "outputs": [],
   "source": [
    "REMOVING COMMA AS SOME HAVE STILL"
   ]
  },
  {
   "cell_type": "code",
   "execution_count": 69,
   "id": "b46c071c-a857-419f-8b01-0d71cc51fe76",
   "metadata": {},
   "outputs": [
    {
     "data": {
      "text/plain": [
       "array(['Comedy', 'Drama', 'International', 'Action', 'Suspense',\n",
       "       'Documentary', 'Fantasy', 'Kids', 'Special Interest',\n",
       "       'Science Fiction', 'Adventure', 'Horror', 'Sports',\n",
       "       'Talk Show and Variety', 'Anime', 'Arts', 'Entertainment',\n",
       "       'and Culture', 'TV Shows', 'Animation',\n",
       "       'Music Videos and Concerts', 'Fitness', 'Faith and Spirituality',\n",
       "       'Military and War', 'Western', 'LGBTQ', 'Romance', 'Unscripted',\n",
       "       'Young Adult Audience', 'Arthouse', 'Historical'], dtype=object)"
      ]
     },
     "execution_count": 69,
     "metadata": {},
     "output_type": "execute_result"
    }
   ],
   "source": [
    "exploded['listed_in'] = exploded['listed_in'].str.strip()\n",
    "exploded['listed_in'].unique()"
   ]
  },
  {
   "cell_type": "code",
   "execution_count": 61,
   "id": "a924887a-a065-4c18-a262-f2fbfc68e7ff",
   "metadata": {},
   "outputs": [
    {
     "data": {
      "text/plain": [
       "array(['TV-Y7', '13+', 'TV-14', 'R', 'NR', '7+', 'TV-PG', '18+', 'TV-NR',\n",
       "       'ALL', 'PG-13', 'PG', '16+', 'UNRATED', 'TV-MA', 'G', 'TV-G',\n",
       "       'TV-Y', 'NC-17', 'AGES_18_', 'NOT_RATE', 'AGES_16_'], dtype=object)"
      ]
     },
     "execution_count": 61,
     "metadata": {},
     "output_type": "execute_result"
    }
   ],
   "source": [
    "exploded['rating'].unique()"
   ]
  },
  {
   "cell_type": "code",
   "execution_count": 73,
   "id": "b14831b7-bafc-44bf-899c-aee631ef283d",
   "metadata": {},
   "outputs": [],
   "source": [
    "exploded.to_csv('amazon_formatted.csv',index=False)"
   ]
  },
  {
   "cell_type": "code",
   "execution_count": null,
   "id": "44b71fb0-0e6d-4608-ad78-3af3e67e0502",
   "metadata": {},
   "outputs": [],
   "source": []
  }
 ],
 "metadata": {
  "kernelspec": {
   "display_name": "Python 3 (ipykernel)",
   "language": "python",
   "name": "python3"
  },
  "language_info": {
   "codemirror_mode": {
    "name": "ipython",
    "version": 3
   },
   "file_extension": ".py",
   "mimetype": "text/x-python",
   "name": "python",
   "nbconvert_exporter": "python",
   "pygments_lexer": "ipython3",
   "version": "3.12.4"
  }
 },
 "nbformat": 4,
 "nbformat_minor": 5
}
